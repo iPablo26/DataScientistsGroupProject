{
 "cells": [
  {
   "cell_type": "markdown",
   "id": "66163115",
   "metadata": {},
   "source": [
    "### Notebook for the Bank Marketing (Campaign) Project\n",
    "\n",
    "Data Understanding Drive"
   ]
  },
  {
   "cell_type": "code",
   "execution_count": 1,
   "id": "794923c1",
   "metadata": {
    "ExecuteTime": {
     "end_time": "2021-08-27T12:11:13.946034Z",
     "start_time": "2021-08-27T12:11:11.104960Z"
    }
   },
   "outputs": [],
   "source": [
    "# This cell is for importing relevant packages for data analysis\n",
    "import pandas as pd \n",
    "import matplotlib.pyplot as plt\n",
    "import seaborn as sns"
   ]
  },
  {
   "cell_type": "markdown",
   "id": "dfc928cd",
   "metadata": {},
   "source": [
    "Data Set Information:\n",
    "\n",
    "The data is related with direct marketing campaigns of a Portuguese banking institution. The marketing campaigns were based on phone calls. Often, more than one contact to the same client was required, in order to access if the product (bank term deposit) would be ('yes') or not ('no') subscribed.\n",
    "\n",
    "There are four datasets:\n",
    "\n",
    "1) bank-additional-full.csv with all examples (41188) and 20 inputs, ordered by date (from May 2008 to November 2010), very close to the data analyzed in [Moro et al., 2014]\n",
    "\n",
    "2) bank-additional.csv with 10% of the examples (4119), randomly selected from 1), and 20 inputs.\n",
    "\n",
    "3) bank-full.csv with all examples and 17 inputs, ordered by date (older version of this dataset with less inputs).\n",
    "\n",
    "4) bank.csv with 10% of the examples and 17 inputs, randomly selected from 3 (older version of this dataset with less inputs).\n",
    "\n",
    "The smallest datasets are provided to test more computationally demanding machine learning algorithms (e.g., SVM).\n",
    "\n",
    "The classification goal is to predict if the client will subscribe (yes/no) a term deposit (variable y)"
   ]
  },
  {
   "cell_type": "code",
   "execution_count": 2,
   "id": "d9006bfe",
   "metadata": {
    "ExecuteTime": {
     "end_time": "2021-08-27T12:11:14.126521Z",
     "start_time": "2021-08-27T12:11:13.948545Z"
    }
   },
   "outputs": [
    {
     "data": {
      "text/html": [
       "<div>\n",
       "<style scoped>\n",
       "    .dataframe tbody tr th:only-of-type {\n",
       "        vertical-align: middle;\n",
       "    }\n",
       "\n",
       "    .dataframe tbody tr th {\n",
       "        vertical-align: top;\n",
       "    }\n",
       "\n",
       "    .dataframe thead th {\n",
       "        text-align: right;\n",
       "    }\n",
       "</style>\n",
       "<table border=\"1\" class=\"dataframe\">\n",
       "  <thead>\n",
       "    <tr style=\"text-align: right;\">\n",
       "      <th></th>\n",
       "      <th>age</th>\n",
       "      <th>job</th>\n",
       "      <th>marital</th>\n",
       "      <th>education</th>\n",
       "      <th>default</th>\n",
       "      <th>housing</th>\n",
       "      <th>loan</th>\n",
       "      <th>contact</th>\n",
       "      <th>month</th>\n",
       "      <th>day_of_week</th>\n",
       "      <th>...</th>\n",
       "      <th>campaign</th>\n",
       "      <th>pdays</th>\n",
       "      <th>previous</th>\n",
       "      <th>poutcome</th>\n",
       "      <th>emp.var.rate</th>\n",
       "      <th>cons.price.idx</th>\n",
       "      <th>cons.conf.idx</th>\n",
       "      <th>euribor3m</th>\n",
       "      <th>nr.employed</th>\n",
       "      <th>y</th>\n",
       "    </tr>\n",
       "  </thead>\n",
       "  <tbody>\n",
       "    <tr>\n",
       "      <th>0</th>\n",
       "      <td>56</td>\n",
       "      <td>housemaid</td>\n",
       "      <td>married</td>\n",
       "      <td>basic.4y</td>\n",
       "      <td>no</td>\n",
       "      <td>no</td>\n",
       "      <td>no</td>\n",
       "      <td>telephone</td>\n",
       "      <td>may</td>\n",
       "      <td>mon</td>\n",
       "      <td>...</td>\n",
       "      <td>1</td>\n",
       "      <td>999</td>\n",
       "      <td>0</td>\n",
       "      <td>nonexistent</td>\n",
       "      <td>1.1</td>\n",
       "      <td>93.994</td>\n",
       "      <td>-36.4</td>\n",
       "      <td>4.857</td>\n",
       "      <td>5191.0</td>\n",
       "      <td>no</td>\n",
       "    </tr>\n",
       "    <tr>\n",
       "      <th>1</th>\n",
       "      <td>57</td>\n",
       "      <td>services</td>\n",
       "      <td>married</td>\n",
       "      <td>high.school</td>\n",
       "      <td>unknown</td>\n",
       "      <td>no</td>\n",
       "      <td>no</td>\n",
       "      <td>telephone</td>\n",
       "      <td>may</td>\n",
       "      <td>mon</td>\n",
       "      <td>...</td>\n",
       "      <td>1</td>\n",
       "      <td>999</td>\n",
       "      <td>0</td>\n",
       "      <td>nonexistent</td>\n",
       "      <td>1.1</td>\n",
       "      <td>93.994</td>\n",
       "      <td>-36.4</td>\n",
       "      <td>4.857</td>\n",
       "      <td>5191.0</td>\n",
       "      <td>no</td>\n",
       "    </tr>\n",
       "    <tr>\n",
       "      <th>2</th>\n",
       "      <td>37</td>\n",
       "      <td>services</td>\n",
       "      <td>married</td>\n",
       "      <td>high.school</td>\n",
       "      <td>no</td>\n",
       "      <td>yes</td>\n",
       "      <td>no</td>\n",
       "      <td>telephone</td>\n",
       "      <td>may</td>\n",
       "      <td>mon</td>\n",
       "      <td>...</td>\n",
       "      <td>1</td>\n",
       "      <td>999</td>\n",
       "      <td>0</td>\n",
       "      <td>nonexistent</td>\n",
       "      <td>1.1</td>\n",
       "      <td>93.994</td>\n",
       "      <td>-36.4</td>\n",
       "      <td>4.857</td>\n",
       "      <td>5191.0</td>\n",
       "      <td>no</td>\n",
       "    </tr>\n",
       "    <tr>\n",
       "      <th>3</th>\n",
       "      <td>40</td>\n",
       "      <td>admin.</td>\n",
       "      <td>married</td>\n",
       "      <td>basic.6y</td>\n",
       "      <td>no</td>\n",
       "      <td>no</td>\n",
       "      <td>no</td>\n",
       "      <td>telephone</td>\n",
       "      <td>may</td>\n",
       "      <td>mon</td>\n",
       "      <td>...</td>\n",
       "      <td>1</td>\n",
       "      <td>999</td>\n",
       "      <td>0</td>\n",
       "      <td>nonexistent</td>\n",
       "      <td>1.1</td>\n",
       "      <td>93.994</td>\n",
       "      <td>-36.4</td>\n",
       "      <td>4.857</td>\n",
       "      <td>5191.0</td>\n",
       "      <td>no</td>\n",
       "    </tr>\n",
       "    <tr>\n",
       "      <th>4</th>\n",
       "      <td>56</td>\n",
       "      <td>services</td>\n",
       "      <td>married</td>\n",
       "      <td>high.school</td>\n",
       "      <td>no</td>\n",
       "      <td>no</td>\n",
       "      <td>yes</td>\n",
       "      <td>telephone</td>\n",
       "      <td>may</td>\n",
       "      <td>mon</td>\n",
       "      <td>...</td>\n",
       "      <td>1</td>\n",
       "      <td>999</td>\n",
       "      <td>0</td>\n",
       "      <td>nonexistent</td>\n",
       "      <td>1.1</td>\n",
       "      <td>93.994</td>\n",
       "      <td>-36.4</td>\n",
       "      <td>4.857</td>\n",
       "      <td>5191.0</td>\n",
       "      <td>no</td>\n",
       "    </tr>\n",
       "  </tbody>\n",
       "</table>\n",
       "<p>5 rows × 21 columns</p>\n",
       "</div>"
      ],
      "text/plain": [
       "   age        job  marital    education  default housing loan    contact  \\\n",
       "0   56  housemaid  married     basic.4y       no      no   no  telephone   \n",
       "1   57   services  married  high.school  unknown      no   no  telephone   \n",
       "2   37   services  married  high.school       no     yes   no  telephone   \n",
       "3   40     admin.  married     basic.6y       no      no   no  telephone   \n",
       "4   56   services  married  high.school       no      no  yes  telephone   \n",
       "\n",
       "  month day_of_week  ...  campaign  pdays  previous     poutcome emp.var.rate  \\\n",
       "0   may         mon  ...         1    999         0  nonexistent          1.1   \n",
       "1   may         mon  ...         1    999         0  nonexistent          1.1   \n",
       "2   may         mon  ...         1    999         0  nonexistent          1.1   \n",
       "3   may         mon  ...         1    999         0  nonexistent          1.1   \n",
       "4   may         mon  ...         1    999         0  nonexistent          1.1   \n",
       "\n",
       "   cons.price.idx  cons.conf.idx  euribor3m  nr.employed   y  \n",
       "0          93.994          -36.4      4.857       5191.0  no  \n",
       "1          93.994          -36.4      4.857       5191.0  no  \n",
       "2          93.994          -36.4      4.857       5191.0  no  \n",
       "3          93.994          -36.4      4.857       5191.0  no  \n",
       "4          93.994          -36.4      4.857       5191.0  no  \n",
       "\n",
       "[5 rows x 21 columns]"
      ]
     },
     "execution_count": 2,
     "metadata": {},
     "output_type": "execute_result"
    }
   ],
   "source": [
    "# Reading the bank-additional-full.csv dataset\n",
    "bank_full = pd.read_csv('bank-additional-full.csv',sep=';')\n",
    "bank_full.head()"
   ]
  },
  {
   "cell_type": "code",
   "execution_count": 3,
   "id": "08dd8690",
   "metadata": {
    "ExecuteTime": {
     "end_time": "2021-08-27T12:11:14.136941Z",
     "start_time": "2021-08-27T12:11:14.129695Z"
    }
   },
   "outputs": [
    {
     "data": {
      "text/plain": [
       "(41188, 21)"
      ]
     },
     "execution_count": 3,
     "metadata": {},
     "output_type": "execute_result"
    }
   ],
   "source": [
    "bank_full.shape "
   ]
  },
  {
   "cell_type": "code",
   "execution_count": 4,
   "id": "a554fa99",
   "metadata": {
    "ExecuteTime": {
     "end_time": "2021-08-27T12:11:14.653828Z",
     "start_time": "2021-08-27T12:11:14.637700Z"
    }
   },
   "outputs": [
    {
     "name": "stdout",
     "output_type": "stream",
     "text": [
      "﻿Citation Request:\n",
      "\n",
      "  This dataset is publicly available for research. The details are described in [Moro et al., 2014]. \n",
      "\n",
      "  Please include this citation if you plan to use this database:\n",
      "\n",
      "\n",
      "\n",
      "  [Moro et al., 2014] S. Moro, P. Cortez and P. Rita. A Data-Driven Approach to Predict the Success of Bank Telemarketing. Decision Support Systems, In press, http://dx.doi.org/10.1016/j.dss.2014.03.001\n",
      "\n",
      "\n",
      "\n",
      "  Available at: [pdf] http://dx.doi.org/10.1016/j.dss.2014.03.001\n",
      "\n",
      "                [bib] http://www3.dsi.uminho.pt/pcortez/bib/2014-dss.txt\n",
      "\n",
      "\n",
      "\n",
      "1. Title: Bank Marketing (with social/economic context)\n",
      "\n",
      "\n",
      "\n",
      "2. Sources\n",
      "\n",
      "   Created by: Sérgio Moro (ISCTE-IUL), Paulo Cortez (Univ. Minho) and Paulo Rita (ISCTE-IUL) @ 2014\n",
      "\n",
      "   \n",
      "\n",
      "3. Past Usage:\n",
      "\n",
      "\n",
      "\n",
      "  The full dataset (bank-additional-full.csv) was described and analyzed in:\n",
      "\n",
      "\n",
      "\n",
      "  S. Moro, P. Cortez and P. Rita. A Data-Driven Approach to Predict the Success of Bank Telemarketing. Decision Support Systems (2014), doi:10.1016/j.dss.2014.03.001.\n",
      "\n",
      " \n",
      "\n",
      "4. Relevant Information:\n",
      "\n",
      "\n",
      "\n",
      "   This dataset is based on \"Bank Marketing\" UCI dataset (please check the description at: http://archive.ics.uci.edu/ml/datasets/Bank+Marketing).\n",
      "\n",
      "   The data is enriched by the addition of five new social and economic features/attributes (national wide indicators from a ~10M population country), published by the Banco de Portugal and publicly available at: https://www.bportugal.pt/estatisticasweb.\n",
      "\n",
      "   This dataset is almost identical to the one used in [Moro et al., 2014] (it does not include all attributes due to privacy concerns). \n",
      "\n",
      "   Using the rminer package and R tool (http://cran.r-project.org/web/packages/rminer/), we found that the addition of the five new social and economic attributes (made available here) lead to substantial improvement in the prediction of a success, even when the duration of the call is not included. Note: the file can be read in R using: d=read.table(\"bank-additional-full.csv\",header=TRUE,sep=\";\")\n",
      "\n",
      "   \n",
      "\n",
      "   The zip file includes two datasets: \n",
      "\n",
      "      1) bank-additional-full.csv with all examples, ordered by date (from May 2008 to November 2010).\n",
      "\n",
      "      2) bank-additional.csv with 10% of the examples (4119), randomly selected from bank-additional-full.csv.\n",
      "\n",
      "   The smallest dataset is provided to test more computationally demanding machine learning algorithms (e.g., SVM).\n",
      "\n",
      "\n",
      "\n",
      "   The binary classification goal is to predict if the client will subscribe a bank term deposit (variable y).\n",
      "\n",
      "\n",
      "\n",
      "5. Number of Instances: 41188 for bank-additional-full.csv\n",
      "\n",
      "\n",
      "\n",
      "6. Number of Attributes: 20 + output attribute.\n",
      "\n",
      "\n",
      "\n",
      "7. Attribute information:\n",
      "\n",
      "\n",
      "\n",
      "   For more information, read [Moro et al., 2014].\n",
      "\n",
      "\n",
      "\n",
      "   Input variables:\n",
      "\n",
      "   # bank client data:\n",
      "\n",
      "   1 - age (numeric)\n",
      "\n",
      "   2 - job : type of job (categorical: \"admin.\",\"blue-collar\",\"entrepreneur\",\"housemaid\",\"management\",\"retired\",\"self-employed\",\"services\",\"student\",\"technician\",\"unemployed\",\"unknown\")\n",
      "\n",
      "   3 - marital : marital status (categorical: \"divorced\",\"married\",\"single\",\"unknown\"; note: \"divorced\" means divorced or widowed)\n",
      "\n",
      "   4 - education (categorical: \"basic.4y\",\"basic.6y\",\"basic.9y\",\"high.school\",\"illiterate\",\"professional.course\",\"university.degree\",\"unknown\")\n",
      "\n",
      "   5 - default: has credit in default? (categorical: \"no\",\"yes\",\"unknown\")\n",
      "\n",
      "   6 - housing: has housing loan? (categorical: \"no\",\"yes\",\"unknown\")\n",
      "\n",
      "   7 - loan: has personal loan? (categorical: \"no\",\"yes\",\"unknown\")\n",
      "\n",
      "   # related with the last contact of the current campaign:\n",
      "\n",
      "   8 - contact: contact communication type (categorical: \"cellular\",\"telephone\") \n",
      "\n",
      "   9 - month: last contact month of year (categorical: \"jan\", \"feb\", \"mar\", ..., \"nov\", \"dec\")\n",
      "\n",
      "  10 - day_of_week: last contact day of the week (categorical: \"mon\",\"tue\",\"wed\",\"thu\",\"fri\")\n",
      "\n",
      "  11 - duration: last contact duration, in seconds (numeric). Important note:  this attribute highly affects the output target (e.g., if duration=0 then y=\"no\"). Yet, the duration is not known before a call is performed. Also, after the end of the call y is obviously known. Thus, this input should only be included for benchmark purposes and should be discarded if the intention is to have a realistic predictive model.\n",
      "\n",
      "   # other attributes:\n",
      "\n",
      "  12 - campaign: number of contacts performed during this campaign and for this client (numeric, includes last contact)\n",
      "\n",
      "  13 - pdays: number of days that passed by after the client was last contacted from a previous campaign (numeric; 999 means client was not previously contacted)\n",
      "\n",
      "  14 - previous: number of contacts performed before this campaign and for this client (numeric)\n",
      "\n",
      "  15 - poutcome: outcome of the previous marketing campaign (categorical: \"failure\",\"nonexistent\",\"success\")\n",
      "\n",
      "   # social and economic context attributes\n",
      "\n",
      "  16 - emp.var.rate: employment variation rate - quarterly indicator (numeric)\n",
      "\n",
      "  17 - cons.price.idx: consumer price index - monthly indicator (numeric)     \n",
      "\n",
      "  18 - cons.conf.idx: consumer confidence index - monthly indicator (numeric)     \n",
      "\n",
      "  19 - euribor3m: euribor 3 month rate - daily indicator (numeric)\n",
      "\n",
      "  20 - nr.employed: number of employees - quarterly indicator (numeric)\n",
      "\n",
      "\n",
      "\n",
      "  Output variable (desired target):\n",
      "\n",
      "  21 - y - has the client subscribed a term deposit? (binary: \"yes\",\"no\")\n",
      "\n",
      "\n",
      "\n",
      "8. Missing Attribute Values: There are several missing values in some categorical attributes, all coded with the \"unknown\" label. These missing values can be treated as a possible class label or using deletion or imputation techniques. \n",
      "\n"
     ]
    }
   ],
   "source": [
    "h = open('bank-additional-names.txt','r')\n",
    "for line in h: \n",
    "    print(line)\n",
    "h.close()"
   ]
  },
  {
   "cell_type": "code",
   "execution_count": 5,
   "id": "be12bf66",
   "metadata": {
    "ExecuteTime": {
     "end_time": "2021-08-27T12:11:15.548799Z",
     "start_time": "2021-08-27T12:11:15.518449Z"
    }
   },
   "outputs": [
    {
     "name": "stdout",
     "output_type": "stream",
     "text": [
      "<class 'pandas.core.frame.DataFrame'>\n",
      "RangeIndex: 41188 entries, 0 to 41187\n",
      "Data columns (total 21 columns):\n",
      " #   Column          Non-Null Count  Dtype  \n",
      "---  ------          --------------  -----  \n",
      " 0   age             41188 non-null  int64  \n",
      " 1   job             41188 non-null  object \n",
      " 2   marital         41188 non-null  object \n",
      " 3   education       41188 non-null  object \n",
      " 4   default         41188 non-null  object \n",
      " 5   housing         41188 non-null  object \n",
      " 6   loan            41188 non-null  object \n",
      " 7   contact         41188 non-null  object \n",
      " 8   month           41188 non-null  object \n",
      " 9   day_of_week     41188 non-null  object \n",
      " 10  duration        41188 non-null  int64  \n",
      " 11  campaign        41188 non-null  int64  \n",
      " 12  pdays           41188 non-null  int64  \n",
      " 13  previous        41188 non-null  int64  \n",
      " 14  poutcome        41188 non-null  object \n",
      " 15  emp.var.rate    41188 non-null  float64\n",
      " 16  cons.price.idx  41188 non-null  float64\n",
      " 17  cons.conf.idx   41188 non-null  float64\n",
      " 18  euribor3m       41188 non-null  float64\n",
      " 19  nr.employed     41188 non-null  float64\n",
      " 20  y               41188 non-null  object \n",
      "dtypes: float64(5), int64(5), object(11)\n",
      "memory usage: 6.6+ MB\n"
     ]
    }
   ],
   "source": [
    "# Summary of the data frame information\n",
    "bank_full.info()"
   ]
  },
  {
   "cell_type": "markdown",
   "id": "ea0c9126",
   "metadata": {},
   "source": [
    "### Business Understanding\n",
    "\n",
    "A term deposit is a fixed-term investment that includes the deposit of money into an account at a financial institution. Term deposit investments usually carry short-term maturities ranging from one month to a few years and will have varying levels of required minimum deposits. \n",
    "\n",
    "Term deposits have significant advantages over normal deposits because financial institutions can use them for safe investments. With term deposits, banks can invest in businesses that have higher rates of return and profit returns.\n",
    "Additionally, the bank will like to save costs through efficient and effective marketing campaigns\n",
    "\n",
    "\n",
    "### Problem Description\n",
    "\n",
    "ABC bank wants to sell term deposits to their customers, but they want to identify particular customers with a higher propensity to buy.\n",
    "\n",
    "There's a need to identify these customers so they can focus their marketing campaigns efficiently and effectively.\n"
   ]
  },
  {
   "cell_type": "markdown",
   "id": "ca2051c2",
   "metadata": {},
   "source": [
    "### Data Cleaning & Transformation"
   ]
  },
  {
   "cell_type": "code",
   "execution_count": 6,
   "id": "15925eaa",
   "metadata": {
    "ExecuteTime": {
     "end_time": "2021-08-27T12:11:17.840134Z",
     "start_time": "2021-08-27T12:11:17.813953Z"
    }
   },
   "outputs": [
    {
     "data": {
      "text/plain": [
       "age               0\n",
       "job               0\n",
       "marital           0\n",
       "education         0\n",
       "default           0\n",
       "housing           0\n",
       "loan              0\n",
       "contact           0\n",
       "month             0\n",
       "day_of_week       0\n",
       "duration          0\n",
       "campaign          0\n",
       "pdays             0\n",
       "previous          0\n",
       "poutcome          0\n",
       "emp.var.rate      0\n",
       "cons.price.idx    0\n",
       "cons.conf.idx     0\n",
       "euribor3m         0\n",
       "nr.employed       0\n",
       "y                 0\n",
       "dtype: int64"
      ]
     },
     "execution_count": 6,
     "metadata": {},
     "output_type": "execute_result"
    }
   ],
   "source": [
    "# Examine NA Values\n",
    "bank_full.isnull().sum() "
   ]
  },
  {
   "cell_type": "code",
   "execution_count": 7,
   "id": "ae9e7d5d",
   "metadata": {
    "ExecuteTime": {
     "end_time": "2021-08-27T12:11:18.781633Z",
     "start_time": "2021-08-27T12:11:18.778550Z"
    }
   },
   "outputs": [],
   "source": [
    "# Inspecting the age column\n",
    "# Questions: \n",
    "# Is age a factor for buying term deposits? Yes\n",
    "# Is the column relevant to our future analysis? Yes"
   ]
  },
  {
   "cell_type": "code",
   "execution_count": 8,
   "id": "3b5a2b18",
   "metadata": {
    "ExecuteTime": {
     "end_time": "2021-08-27T12:11:24.420419Z",
     "start_time": "2021-08-27T12:11:24.410177Z"
    }
   },
   "outputs": [
    {
     "data": {
      "text/plain": [
       "count    41188.00000\n",
       "mean        40.02406\n",
       "std         10.42125\n",
       "min         17.00000\n",
       "25%         32.00000\n",
       "50%         38.00000\n",
       "75%         47.00000\n",
       "max         98.00000\n",
       "Name: age, dtype: float64"
      ]
     },
     "execution_count": 8,
     "metadata": {},
     "output_type": "execute_result"
    }
   ],
   "source": [
    "# Checking for unusual date values\n",
    "# Using summary statistics\n",
    "bank_full.age.describe()"
   ]
  },
  {
   "cell_type": "code",
   "execution_count": 9,
   "id": "a3f446ca",
   "metadata": {
    "ExecuteTime": {
     "end_time": "2021-08-27T12:11:25.245265Z",
     "start_time": "2021-08-27T12:11:25.239080Z"
    }
   },
   "outputs": [
    {
     "data": {
      "text/plain": [
       "array([56, 57, 37, 40, 45, 59, 41, 24, 25, 29, 35, 54, 46, 50, 39, 30, 55,\n",
       "       49, 34, 52, 58, 32, 38, 44, 42, 60, 53, 47, 51, 48, 33, 31, 43, 36,\n",
       "       28, 27, 26, 22, 23, 20, 21, 61, 19, 18, 70, 66, 76, 67, 73, 88, 95,\n",
       "       77, 68, 75, 63, 80, 62, 65, 72, 82, 64, 71, 69, 78, 85, 79, 83, 81,\n",
       "       74, 17, 87, 91, 86, 98, 94, 84, 92, 89])"
      ]
     },
     "execution_count": 9,
     "metadata": {},
     "output_type": "execute_result"
    }
   ],
   "source": [
    "# Checking there are other data types in this column other than integers\n",
    "# bank_full.age.dtype\n",
    "bank_full.age.unique() "
   ]
  },
  {
   "cell_type": "code",
   "execution_count": 10,
   "id": "641fa744",
   "metadata": {
    "ExecuteTime": {
     "end_time": "2021-08-27T12:11:26.093029Z",
     "start_time": "2021-08-27T12:11:26.073746Z"
    }
   },
   "outputs": [
    {
     "data": {
      "text/html": [
       "<div>\n",
       "<style scoped>\n",
       "    .dataframe tbody tr th:only-of-type {\n",
       "        vertical-align: middle;\n",
       "    }\n",
       "\n",
       "    .dataframe tbody tr th {\n",
       "        vertical-align: top;\n",
       "    }\n",
       "\n",
       "    .dataframe thead th {\n",
       "        text-align: right;\n",
       "    }\n",
       "</style>\n",
       "<table border=\"1\" class=\"dataframe\">\n",
       "  <thead>\n",
       "    <tr style=\"text-align: right;\">\n",
       "      <th></th>\n",
       "      <th>age</th>\n",
       "      <th>age_group</th>\n",
       "    </tr>\n",
       "  </thead>\n",
       "  <tbody>\n",
       "    <tr>\n",
       "      <th>0</th>\n",
       "      <td>56</td>\n",
       "      <td>Mid-Aged</td>\n",
       "    </tr>\n",
       "    <tr>\n",
       "      <th>1</th>\n",
       "      <td>57</td>\n",
       "      <td>Mid-Aged</td>\n",
       "    </tr>\n",
       "    <tr>\n",
       "      <th>2</th>\n",
       "      <td>37</td>\n",
       "      <td>Adults</td>\n",
       "    </tr>\n",
       "    <tr>\n",
       "      <th>3</th>\n",
       "      <td>40</td>\n",
       "      <td>Adults</td>\n",
       "    </tr>\n",
       "    <tr>\n",
       "      <th>4</th>\n",
       "      <td>56</td>\n",
       "      <td>Mid-Aged</td>\n",
       "    </tr>\n",
       "  </tbody>\n",
       "</table>\n",
       "</div>"
      ],
      "text/plain": [
       "   age age_group\n",
       "0   56  Mid-Aged\n",
       "1   57  Mid-Aged\n",
       "2   37    Adults\n",
       "3   40    Adults\n",
       "4   56  Mid-Aged"
      ]
     },
     "execution_count": 10,
     "metadata": {},
     "output_type": "execute_result"
    }
   ],
   "source": [
    "# Create a new column for age groups \n",
    "bins = [0,19,40,60,100]\n",
    "age_group = ['Teenager','Adults','Mid-Aged','Old']\n",
    "# Create a new column\n",
    "bank_full['age_group'] = pd.cut(bank_full['age'],bins=bins,labels=age_group)\n",
    "bank_full[['age','age_group']].head() "
   ]
  },
  {
   "cell_type": "code",
   "execution_count": 11,
   "id": "42954405",
   "metadata": {
    "ExecuteTime": {
     "end_time": "2021-08-27T12:11:26.347086Z",
     "start_time": "2021-08-27T12:11:26.315824Z"
    }
   },
   "outputs": [
    {
     "data": {
      "text/html": [
       "<div>\n",
       "<style scoped>\n",
       "    .dataframe tbody tr th:only-of-type {\n",
       "        vertical-align: middle;\n",
       "    }\n",
       "\n",
       "    .dataframe tbody tr th {\n",
       "        vertical-align: top;\n",
       "    }\n",
       "\n",
       "    .dataframe thead th {\n",
       "        text-align: right;\n",
       "    }\n",
       "</style>\n",
       "<table border=\"1\" class=\"dataframe\">\n",
       "  <thead>\n",
       "    <tr style=\"text-align: right;\">\n",
       "      <th></th>\n",
       "      <th>age</th>\n",
       "      <th>job</th>\n",
       "      <th>marital</th>\n",
       "      <th>education</th>\n",
       "      <th>default</th>\n",
       "      <th>housing</th>\n",
       "      <th>loan</th>\n",
       "      <th>contact</th>\n",
       "      <th>month</th>\n",
       "      <th>day_of_week</th>\n",
       "      <th>...</th>\n",
       "      <th>pdays</th>\n",
       "      <th>previous</th>\n",
       "      <th>poutcome</th>\n",
       "      <th>emp.var.rate</th>\n",
       "      <th>cons.price.idx</th>\n",
       "      <th>cons.conf.idx</th>\n",
       "      <th>euribor3m</th>\n",
       "      <th>nr.employed</th>\n",
       "      <th>y</th>\n",
       "      <th>age_group</th>\n",
       "    </tr>\n",
       "  </thead>\n",
       "  <tbody>\n",
       "    <tr>\n",
       "      <th>0</th>\n",
       "      <td>56</td>\n",
       "      <td>housemaid</td>\n",
       "      <td>married</td>\n",
       "      <td>basic.4y</td>\n",
       "      <td>no</td>\n",
       "      <td>no</td>\n",
       "      <td>no</td>\n",
       "      <td>telephone</td>\n",
       "      <td>may</td>\n",
       "      <td>mon</td>\n",
       "      <td>...</td>\n",
       "      <td>999</td>\n",
       "      <td>0</td>\n",
       "      <td>nonexistent</td>\n",
       "      <td>1.1</td>\n",
       "      <td>93.994</td>\n",
       "      <td>-36.4</td>\n",
       "      <td>4.857</td>\n",
       "      <td>5191.0</td>\n",
       "      <td>no</td>\n",
       "      <td>Mid-Aged</td>\n",
       "    </tr>\n",
       "    <tr>\n",
       "      <th>1</th>\n",
       "      <td>57</td>\n",
       "      <td>services</td>\n",
       "      <td>married</td>\n",
       "      <td>high.school</td>\n",
       "      <td>unknown</td>\n",
       "      <td>no</td>\n",
       "      <td>no</td>\n",
       "      <td>telephone</td>\n",
       "      <td>may</td>\n",
       "      <td>mon</td>\n",
       "      <td>...</td>\n",
       "      <td>999</td>\n",
       "      <td>0</td>\n",
       "      <td>nonexistent</td>\n",
       "      <td>1.1</td>\n",
       "      <td>93.994</td>\n",
       "      <td>-36.4</td>\n",
       "      <td>4.857</td>\n",
       "      <td>5191.0</td>\n",
       "      <td>no</td>\n",
       "      <td>Mid-Aged</td>\n",
       "    </tr>\n",
       "  </tbody>\n",
       "</table>\n",
       "<p>2 rows × 22 columns</p>\n",
       "</div>"
      ],
      "text/plain": [
       "   age        job  marital    education  default housing loan    contact  \\\n",
       "0   56  housemaid  married     basic.4y       no      no   no  telephone   \n",
       "1   57   services  married  high.school  unknown      no   no  telephone   \n",
       "\n",
       "  month day_of_week  ...  pdays  previous     poutcome  emp.var.rate  \\\n",
       "0   may         mon  ...    999         0  nonexistent           1.1   \n",
       "1   may         mon  ...    999         0  nonexistent           1.1   \n",
       "\n",
       "  cons.price.idx  cons.conf.idx  euribor3m  nr.employed   y  age_group  \n",
       "0         93.994          -36.4      4.857       5191.0  no   Mid-Aged  \n",
       "1         93.994          -36.4      4.857       5191.0  no   Mid-Aged  \n",
       "\n",
       "[2 rows x 22 columns]"
      ]
     },
     "execution_count": 11,
     "metadata": {},
     "output_type": "execute_result"
    }
   ],
   "source": [
    "bank_full.head(2) "
   ]
  },
  {
   "cell_type": "code",
   "execution_count": 12,
   "id": "7989f9e3",
   "metadata": {
    "ExecuteTime": {
     "end_time": "2021-08-27T12:11:26.538769Z",
     "start_time": "2021-08-27T12:11:26.535166Z"
    }
   },
   "outputs": [],
   "source": [
    "# Inspecting the job column\n",
    "# Questions:\n",
    "# Is the job column crucial to buying term deposits? Yes"
   ]
  },
  {
   "cell_type": "code",
   "execution_count": 13,
   "id": "84e5bd1b",
   "metadata": {
    "ExecuteTime": {
     "end_time": "2021-08-27T12:11:26.724765Z",
     "start_time": "2021-08-27T12:11:26.712274Z"
    }
   },
   "outputs": [
    {
     "data": {
      "text/plain": [
       "array(['housemaid', 'services', 'admin.', 'blue-collar', 'technician',\n",
       "       'retired', 'management', 'unemployed', 'self-employed', 'unknown',\n",
       "       'entrepreneur', 'student'], dtype=object)"
      ]
     },
     "execution_count": 13,
     "metadata": {},
     "output_type": "execute_result"
    }
   ],
   "source": [
    "# Checking for the unique values in the job column\n",
    "bank_full.job.unique() "
   ]
  },
  {
   "cell_type": "markdown",
   "id": "693d7418",
   "metadata": {},
   "source": [
    "Doesn't seem to be anything unusual except the unknown value. I have to understand what it represents and label it accordingly"
   ]
  },
  {
   "cell_type": "code",
   "execution_count": 14,
   "id": "a8c984ea",
   "metadata": {
    "ExecuteTime": {
     "end_time": "2021-08-27T12:11:27.096315Z",
     "start_time": "2021-08-27T12:11:27.087819Z"
    }
   },
   "outputs": [
    {
     "data": {
      "text/plain": [
       "admin.           10422\n",
       "blue-collar       9254\n",
       "technician        6743\n",
       "services          3969\n",
       "management        2924\n",
       "retired           1720\n",
       "entrepreneur      1456\n",
       "self-employed     1421\n",
       "housemaid         1060\n",
       "unemployed        1014\n",
       "student            875\n",
       "unknown            330\n",
       "Name: job, dtype: int64"
      ]
     },
     "execution_count": 14,
     "metadata": {},
     "output_type": "execute_result"
    }
   ],
   "source": [
    "# Counting the distribution of each variable in the job column\n",
    "bank_full['job'].value_counts()"
   ]
  },
  {
   "cell_type": "code",
   "execution_count": 15,
   "id": "35b2572a",
   "metadata": {
    "ExecuteTime": {
     "end_time": "2021-08-27T12:11:27.354331Z",
     "start_time": "2021-08-27T12:11:27.330484Z"
    }
   },
   "outputs": [
    {
     "data": {
      "text/plain": [
       "admin            10422\n",
       "blue-collar       9254\n",
       "technician        6743\n",
       "services          3969\n",
       "management        2924\n",
       "retired           1720\n",
       "entrepreneur      1456\n",
       "self-employed     1421\n",
       "housemaid         1060\n",
       "unemployed        1014\n",
       "student            875\n",
       "others             330\n",
       "Name: job, dtype: int64"
      ]
     },
     "execution_count": 15,
     "metadata": {},
     "output_type": "execute_result"
    }
   ],
   "source": [
    "# Encode the unknown values in the job column to others\n",
    "# Remove the dot in admin.\n",
    "bank_full['job'] = bank_full['job'].replace({'admin.':'admin','unknown':'others'})\n",
    "bank_full['job'].value_counts()"
   ]
  },
  {
   "cell_type": "code",
   "execution_count": 16,
   "id": "6bcc383c",
   "metadata": {
    "ExecuteTime": {
     "end_time": "2021-08-27T12:11:27.544271Z",
     "start_time": "2021-08-27T12:11:27.541817Z"
    }
   },
   "outputs": [],
   "source": [
    "# Inspect the marital column\n",
    "# Questions: \n",
    "# Can marital status influence buying term deposits? Yes"
   ]
  },
  {
   "cell_type": "code",
   "execution_count": 17,
   "id": "4a61aa4a",
   "metadata": {
    "ExecuteTime": {
     "end_time": "2021-08-27T12:11:27.762063Z",
     "start_time": "2021-08-27T12:11:27.754927Z"
    }
   },
   "outputs": [
    {
     "data": {
      "text/plain": [
       "array(['married', 'single', 'divorced', 'unknown'], dtype=object)"
      ]
     },
     "execution_count": 17,
     "metadata": {},
     "output_type": "execute_result"
    }
   ],
   "source": [
    "# Checking for the uniqueness of the value\n",
    "bank_full.marital.unique() "
   ]
  },
  {
   "cell_type": "code",
   "execution_count": 18,
   "id": "5868b65c",
   "metadata": {
    "ExecuteTime": {
     "end_time": "2021-08-27T12:11:27.989683Z",
     "start_time": "2021-08-27T12:11:27.976759Z"
    }
   },
   "outputs": [
    {
     "data": {
      "text/plain": [
       "married     24928\n",
       "single      11568\n",
       "divorced     4612\n",
       "unknown        80\n",
       "Name: marital, dtype: int64"
      ]
     },
     "execution_count": 18,
     "metadata": {},
     "output_type": "execute_result"
    }
   ],
   "source": [
    "# The marital column\n",
    "bank_full['marital'].value_counts() "
   ]
  },
  {
   "cell_type": "markdown",
   "id": "7a27b4f2",
   "metadata": {},
   "source": [
    "Classification of legal marital status popularly falls in the following categories:\n",
    "\n",
    "1. Married\n",
    "\n",
    "2. Separated\n",
    "\n",
    "3. Divorced\n",
    "\n",
    "4. Single\n",
    "\n",
    "5. Widowed\n",
    "\n",
    "It is possible that unknown may account for widowed and or separated. It may also mean respondents are in civil union, co-habiting, or have refuse to disclose their status. \n",
    "\n",
    "Here, it will be advisable to replace it with others."
   ]
  },
  {
   "cell_type": "code",
   "execution_count": 19,
   "id": "4c1d270e",
   "metadata": {
    "ExecuteTime": {
     "end_time": "2021-08-27T12:11:28.476573Z",
     "start_time": "2021-08-27T12:11:28.462935Z"
    }
   },
   "outputs": [
    {
     "data": {
      "text/plain": [
       "married     24928\n",
       "single      11568\n",
       "divorced     4612\n",
       "others         80\n",
       "Name: marital, dtype: int64"
      ]
     },
     "execution_count": 19,
     "metadata": {},
     "output_type": "execute_result"
    }
   ],
   "source": [
    "# Encode the unknown values in the marital column to others\n",
    "bank_full['marital'] = bank_full['marital'].replace({'unknown':'others'})\n",
    "bank_full['marital'].value_counts()"
   ]
  },
  {
   "cell_type": "code",
   "execution_count": 20,
   "id": "ad4be143",
   "metadata": {
    "ExecuteTime": {
     "end_time": "2021-08-27T12:11:28.759637Z",
     "start_time": "2021-08-27T12:11:28.756403Z"
    }
   },
   "outputs": [],
   "source": [
    "# Inspecting the Education column\n",
    "# Is this column relevant to understanding customers\n",
    "# and the decision they make? Yes"
   ]
  },
  {
   "cell_type": "code",
   "execution_count": 21,
   "id": "8cd7a28d",
   "metadata": {
    "ExecuteTime": {
     "end_time": "2021-08-27T12:11:29.264740Z",
     "start_time": "2021-08-27T12:11:29.256229Z"
    }
   },
   "outputs": [
    {
     "data": {
      "text/plain": [
       "array(['basic.4y', 'high.school', 'basic.6y', 'basic.9y',\n",
       "       'professional.course', 'unknown', 'university.degree',\n",
       "       'illiterate'], dtype=object)"
      ]
     },
     "execution_count": 21,
     "metadata": {},
     "output_type": "execute_result"
    }
   ],
   "source": [
    "# The uniqueness of this column\n",
    "bank_full.education.unique() "
   ]
  },
  {
   "cell_type": "markdown",
   "id": "318b1aa3",
   "metadata": {},
   "source": [
    "In Portugal, Basic Education consists of nine years of schooling divided into three sequential cycles of education of four, two and three years.\n",
    "\n",
    "It followed by secondary education, professional programmes, university/polytechniques"
   ]
  },
  {
   "cell_type": "code",
   "execution_count": 22,
   "id": "7fdbc570",
   "metadata": {
    "ExecuteTime": {
     "end_time": "2021-08-27T12:11:30.093374Z",
     "start_time": "2021-08-27T12:11:30.084226Z"
    }
   },
   "outputs": [
    {
     "data": {
      "text/plain": [
       "university.degree      12168\n",
       "high.school             9515\n",
       "basic.9y                6045\n",
       "professional.course     5243\n",
       "basic.4y                4176\n",
       "basic.6y                2292\n",
       "unknown                 1731\n",
       "illiterate                18\n",
       "Name: education, dtype: int64"
      ]
     },
     "execution_count": 22,
     "metadata": {},
     "output_type": "execute_result"
    }
   ],
   "source": [
    "# The Education column\n",
    "bank_full['education'].value_counts() "
   ]
  },
  {
   "cell_type": "code",
   "execution_count": 23,
   "id": "5b3d9112",
   "metadata": {
    "ExecuteTime": {
     "end_time": "2021-08-27T12:11:30.327300Z",
     "start_time": "2021-08-27T12:11:30.297972Z"
    }
   },
   "outputs": [
    {
     "data": {
      "text/plain": [
       "university/polytechnic     12168\n",
       "secondary education         9515\n",
       "3rd basic                   6045\n",
       "professional programmes     5243\n",
       "1st basic                   4176\n",
       "2nd basic                   2292\n",
       "unknown                     1731\n",
       "illiterate                    18\n",
       "Name: education, dtype: int64"
      ]
     },
     "execution_count": 23,
     "metadata": {},
     "output_type": "execute_result"
    }
   ],
   "source": [
    "# Encode the educational levels to represent the Portugese educational system\n",
    "bank_full['education'] = bank_full['education'].replace({'university.degree':'university/polytechnic',\n",
    "                                                        'high.school':'secondary education',\n",
    "                                                        'basic.4y':'1st basic',\n",
    "                                                        'basic.6y':'2nd basic',\n",
    "                                                        'basic.9y':'3rd basic',\n",
    "                                                        'professional.course':'professional programmes'})\n",
    "bank_full['education'].value_counts()"
   ]
  },
  {
   "cell_type": "code",
   "execution_count": 24,
   "id": "0579fa00",
   "metadata": {
    "ExecuteTime": {
     "end_time": "2021-08-27T12:11:30.551310Z",
     "start_time": "2021-08-27T12:11:30.541683Z"
    }
   },
   "outputs": [],
   "source": [
    "# Inspecting the default column\n",
    "# A default occurs when a borrower is unable to make timely payments, misses payments, \n",
    "# or avoids or stops making payments on interest or principal owed"
   ]
  },
  {
   "cell_type": "code",
   "execution_count": 25,
   "id": "765981d0",
   "metadata": {
    "ExecuteTime": {
     "end_time": "2021-08-27T12:11:30.748329Z",
     "start_time": "2021-08-27T12:11:30.739913Z"
    }
   },
   "outputs": [
    {
     "data": {
      "text/plain": [
       "array(['no', 'unknown', 'yes'], dtype=object)"
      ]
     },
     "execution_count": 25,
     "metadata": {},
     "output_type": "execute_result"
    }
   ],
   "source": [
    "# The unique values in the default columns\n",
    "bank_full.default.unique() "
   ]
  },
  {
   "cell_type": "code",
   "execution_count": 26,
   "id": "83898943",
   "metadata": {
    "ExecuteTime": {
     "end_time": "2021-08-27T12:11:30.966396Z",
     "start_time": "2021-08-27T12:11:30.955293Z"
    }
   },
   "outputs": [
    {
     "data": {
      "text/plain": [
       "no         32588\n",
       "unknown     8597\n",
       "yes            3\n",
       "Name: default, dtype: int64"
      ]
     },
     "execution_count": 26,
     "metadata": {},
     "output_type": "execute_result"
    }
   ],
   "source": [
    "# The count for each category in the default column\n",
    "bank_full['default'].value_counts()"
   ]
  },
  {
   "cell_type": "markdown",
   "id": "9a4870d0",
   "metadata": {},
   "source": [
    "If only three customers were reported to have defaulted, that it seems unusual.\n",
    "\n",
    "Generally, research show that there's generally regular default rate, especially on credit cards.\n",
    "\n",
    "I don't think the default column is complete and consistent."
   ]
  },
  {
   "cell_type": "code",
   "execution_count": 27,
   "id": "543c0c03",
   "metadata": {
    "ExecuteTime": {
     "end_time": "2021-08-27T12:11:31.397308Z",
     "start_time": "2021-08-27T12:11:31.390567Z"
    }
   },
   "outputs": [
    {
     "data": {
      "text/plain": [
       "array(['no', 'yes', 'unknown'], dtype=object)"
      ]
     },
     "execution_count": 27,
     "metadata": {},
     "output_type": "execute_result"
    }
   ],
   "source": [
    "# Inspecting the housing column\n",
    "# The housing column contains information on customers who have taken housing loans\n",
    "bank_full.housing.unique() "
   ]
  },
  {
   "cell_type": "code",
   "execution_count": 28,
   "id": "b1a98ca0",
   "metadata": {
    "ExecuteTime": {
     "end_time": "2021-08-27T12:11:31.641513Z",
     "start_time": "2021-08-27T12:11:31.626259Z"
    }
   },
   "outputs": [
    {
     "data": {
      "text/plain": [
       "yes        21576\n",
       "no         18622\n",
       "unknown      990\n",
       "Name: housing, dtype: int64"
      ]
     },
     "execution_count": 28,
     "metadata": {},
     "output_type": "execute_result"
    }
   ],
   "source": [
    "# The housing column\n",
    "bank_full['housing'].value_counts() "
   ]
  },
  {
   "cell_type": "code",
   "execution_count": 29,
   "id": "764de8f5",
   "metadata": {
    "ExecuteTime": {
     "end_time": "2021-08-27T12:11:31.870320Z",
     "start_time": "2021-08-27T12:11:31.863213Z"
    }
   },
   "outputs": [
    {
     "data": {
      "text/plain": [
       "Index(['age', 'job', 'marital', 'education', 'default', 'housing loan', 'loan',\n",
       "       'contact', 'month', 'day_of_week', 'duration', 'campaign', 'pdays',\n",
       "       'previous', 'poutcome', 'emp.var.rate', 'cons.price.idx',\n",
       "       'cons.conf.idx', 'euribor3m', 'nr.employed', 'y', 'age_group'],\n",
       "      dtype='object')"
      ]
     },
     "execution_count": 29,
     "metadata": {},
     "output_type": "execute_result"
    }
   ],
   "source": [
    "# Rename the column name from housing to housing loan\n",
    "bank_full.rename(columns={'housing':'housing loan'},inplace=True)\n",
    "bank_full.columns"
   ]
  },
  {
   "cell_type": "code",
   "execution_count": 30,
   "id": "a438c874",
   "metadata": {
    "ExecuteTime": {
     "end_time": "2021-08-27T12:11:32.110470Z",
     "start_time": "2021-08-27T12:11:32.096681Z"
    }
   },
   "outputs": [],
   "source": [
    "# The personal loan column.\n",
    "# This column contains categorical data \n",
    "# Categories stating if a customer took a personal loan"
   ]
  },
  {
   "cell_type": "code",
   "execution_count": 31,
   "id": "0c76bcd5",
   "metadata": {
    "ExecuteTime": {
     "end_time": "2021-08-27T12:11:32.340663Z",
     "start_time": "2021-08-27T12:11:32.324521Z"
    }
   },
   "outputs": [
    {
     "data": {
      "text/plain": [
       "no         33950\n",
       "yes         6248\n",
       "unknown      990\n",
       "Name: loan, dtype: int64"
      ]
     },
     "execution_count": 31,
     "metadata": {},
     "output_type": "execute_result"
    }
   ],
   "source": [
    "# The personal loan column\n",
    "bank_full['loan'].value_counts() "
   ]
  },
  {
   "cell_type": "code",
   "execution_count": 32,
   "id": "030b854f",
   "metadata": {
    "ExecuteTime": {
     "end_time": "2021-08-27T12:11:32.558919Z",
     "start_time": "2021-08-27T12:11:32.545676Z"
    }
   },
   "outputs": [
    {
     "data": {
      "text/plain": [
       "Index(['age', 'job', 'marital', 'education', 'default', 'housing loan',\n",
       "       'personal loan', 'contact', 'month', 'day_of_week', 'duration',\n",
       "       'campaign', 'pdays', 'previous', 'poutcome', 'emp.var.rate',\n",
       "       'cons.price.idx', 'cons.conf.idx', 'euribor3m', 'nr.employed', 'y',\n",
       "       'age_group'],\n",
       "      dtype='object')"
      ]
     },
     "execution_count": 32,
     "metadata": {},
     "output_type": "execute_result"
    }
   ],
   "source": [
    "# Rename the loan column to personal loan\n",
    "bank_full.rename(columns={'loan':'personal loan'},inplace=True)\n",
    "bank_full.columns"
   ]
  },
  {
   "cell_type": "code",
   "execution_count": 33,
   "id": "e85666e3",
   "metadata": {
    "ExecuteTime": {
     "end_time": "2021-08-27T12:11:32.810664Z",
     "start_time": "2021-08-27T12:11:32.795438Z"
    }
   },
   "outputs": [
    {
     "data": {
      "text/plain": [
       "array(['telephone', 'cellular'], dtype=object)"
      ]
     },
     "execution_count": 33,
     "metadata": {},
     "output_type": "execute_result"
    }
   ],
   "source": [
    "# Inspecting the contact column\n",
    "# The contact column contains information on how respondents were contacted\n",
    "bank_full.contact.unique() "
   ]
  },
  {
   "cell_type": "code",
   "execution_count": 34,
   "id": "136498ba",
   "metadata": {
    "ExecuteTime": {
     "end_time": "2021-08-27T12:11:33.037388Z",
     "start_time": "2021-08-27T12:11:33.025048Z"
    }
   },
   "outputs": [
    {
     "data": {
      "text/plain": [
       "cellular     26144\n",
       "telephone    15044\n",
       "Name: contact, dtype: int64"
      ]
     },
     "execution_count": 34,
     "metadata": {},
     "output_type": "execute_result"
    }
   ],
   "source": [
    "# The contact column\n",
    "bank_full['contact'].value_counts() "
   ]
  },
  {
   "cell_type": "code",
   "execution_count": 35,
   "id": "1dca679b",
   "metadata": {
    "ExecuteTime": {
     "end_time": "2021-08-27T12:11:33.310793Z",
     "start_time": "2021-08-27T12:11:33.292886Z"
    }
   },
   "outputs": [],
   "source": [
    "# I don't think this column is important\n",
    "bank_full.drop(columns=['contact'],inplace=True)"
   ]
  },
  {
   "cell_type": "code",
   "execution_count": 36,
   "id": "a527f6ae",
   "metadata": {
    "ExecuteTime": {
     "end_time": "2021-08-27T12:11:33.546259Z",
     "start_time": "2021-08-27T12:11:33.543568Z"
    }
   },
   "outputs": [],
   "source": [
    "# Inspect the month column\n",
    "# This column contains information on the last month\n",
    "# a customer was contacted"
   ]
  },
  {
   "cell_type": "code",
   "execution_count": 37,
   "id": "e1f7c1f9",
   "metadata": {
    "ExecuteTime": {
     "end_time": "2021-08-27T12:11:34.079845Z",
     "start_time": "2021-08-27T12:11:34.070685Z"
    }
   },
   "outputs": [
    {
     "data": {
      "text/plain": [
       "may    13769\n",
       "jul     7174\n",
       "aug     6178\n",
       "jun     5318\n",
       "nov     4101\n",
       "apr     2632\n",
       "oct      718\n",
       "sep      570\n",
       "mar      546\n",
       "dec      182\n",
       "Name: month, dtype: int64"
      ]
     },
     "execution_count": 37,
     "metadata": {},
     "output_type": "execute_result"
    }
   ],
   "source": [
    "# The month column\n",
    "bank_full['month'].value_counts() "
   ]
  },
  {
   "cell_type": "code",
   "execution_count": 38,
   "id": "e3a1e15f",
   "metadata": {
    "ExecuteTime": {
     "end_time": "2021-08-27T12:11:34.738799Z",
     "start_time": "2021-08-27T12:11:34.723943Z"
    }
   },
   "outputs": [
    {
     "data": {
      "text/plain": [
       "Index(['age', 'job', 'marital', 'education', 'default', 'housing loan',\n",
       "       'personal loan', 'day_of_week', 'duration', 'campaign', 'pdays',\n",
       "       'previous', 'poutcome', 'emp.var.rate', 'cons.price.idx',\n",
       "       'cons.conf.idx', 'euribor3m', 'nr.employed', 'y', 'age_group'],\n",
       "      dtype='object')"
      ]
     },
     "execution_count": 38,
     "metadata": {},
     "output_type": "execute_result"
    }
   ],
   "source": [
    "# I don't see any relationship between month of contact and buying a term deposit\n",
    "# I will drop this column\n",
    "bank_full.drop(columns=['month'],inplace=True)\n",
    "bank_full.columns "
   ]
  },
  {
   "cell_type": "code",
   "execution_count": 39,
   "id": "022f945a",
   "metadata": {
    "ExecuteTime": {
     "end_time": "2021-08-27T12:11:34.994568Z",
     "start_time": "2021-08-27T12:11:34.991838Z"
    }
   },
   "outputs": [],
   "source": [
    "# Inspecting the day of week column\n",
    "# Contains information of the last day the customer was contacted"
   ]
  },
  {
   "cell_type": "code",
   "execution_count": 40,
   "id": "4b66bf36",
   "metadata": {
    "ExecuteTime": {
     "end_time": "2021-08-27T12:11:35.193648Z",
     "start_time": "2021-08-27T12:11:35.178427Z"
    }
   },
   "outputs": [
    {
     "data": {
      "text/plain": [
       "thu    8623\n",
       "mon    8514\n",
       "wed    8134\n",
       "tue    8090\n",
       "fri    7827\n",
       "Name: day_of_week, dtype: int64"
      ]
     },
     "execution_count": 40,
     "metadata": {},
     "output_type": "execute_result"
    }
   ],
   "source": [
    "# The day_week column\n",
    "bank_full['day_of_week'].value_counts() "
   ]
  },
  {
   "cell_type": "code",
   "execution_count": 41,
   "id": "a11c5045",
   "metadata": {
    "ExecuteTime": {
     "end_time": "2021-08-27T12:11:35.401203Z",
     "start_time": "2021-08-27T12:11:35.381858Z"
    }
   },
   "outputs": [
    {
     "data": {
      "text/plain": [
       "Index(['age', 'job', 'marital', 'education', 'default', 'housing loan',\n",
       "       'personal loan', 'duration', 'campaign', 'pdays', 'previous',\n",
       "       'poutcome', 'emp.var.rate', 'cons.price.idx', 'cons.conf.idx',\n",
       "       'euribor3m', 'nr.employed', 'y', 'age_group'],\n",
       "      dtype='object')"
      ]
     },
     "execution_count": 41,
     "metadata": {},
     "output_type": "execute_result"
    }
   ],
   "source": [
    "# I don't think this column necessary for the overall model\n",
    "bank_full.drop(columns=['day_of_week'],inplace=True)\n",
    "bank_full.columns"
   ]
  },
  {
   "cell_type": "code",
   "execution_count": 42,
   "id": "bc8c53e4",
   "metadata": {
    "ExecuteTime": {
     "end_time": "2021-08-27T12:11:35.595988Z",
     "start_time": "2021-08-27T12:11:35.592989Z"
    }
   },
   "outputs": [],
   "source": [
    "# Inspecting the duration column\n",
    "# last contact duration, in seconds (numeric). \n",
    "# Important note: this attribute highly affects the output target (e.g., if duration=0 then y='no'). \n",
    "# Yet, the duration is not known before a call is performed. Also, after the end of the call y is obviously known. \n",
    "# Thus, this input should only be included for benchmark purposes and should be discarded if the intention is to \n",
    "# have a realistic predictive model"
   ]
  },
  {
   "cell_type": "code",
   "execution_count": 43,
   "id": "9a9c586a",
   "metadata": {
    "ExecuteTime": {
     "end_time": "2021-08-27T12:11:35.795094Z",
     "start_time": "2021-08-27T12:11:35.785913Z"
    }
   },
   "outputs": [
    {
     "data": {
      "text/plain": [
       "array([ 261,  149,  226, ..., 1246, 1556, 1868])"
      ]
     },
     "execution_count": 43,
     "metadata": {},
     "output_type": "execute_result"
    }
   ],
   "source": [
    "# The duration column\n",
    "bank_full.duration.unique() "
   ]
  },
  {
   "cell_type": "code",
   "execution_count": 44,
   "id": "0a5a542c",
   "metadata": {
    "ExecuteTime": {
     "end_time": "2021-08-27T12:11:36.047801Z",
     "start_time": "2021-08-27T12:11:36.027165Z"
    }
   },
   "outputs": [
    {
     "data": {
      "text/plain": [
       "Index(['age', 'job', 'marital', 'education', 'default', 'housing loan',\n",
       "       'personal loan', 'campaign', 'pdays', 'previous', 'poutcome',\n",
       "       'emp.var.rate', 'cons.price.idx', 'cons.conf.idx', 'euribor3m',\n",
       "       'nr.employed', 'y', 'age_group'],\n",
       "      dtype='object')"
      ]
     },
     "execution_count": 44,
     "metadata": {},
     "output_type": "execute_result"
    }
   ],
   "source": [
    "# I will drop this column based the initial advise\n",
    "bank_full.drop(columns=['duration'],inplace=True)\n",
    "bank_full.columns"
   ]
  },
  {
   "cell_type": "code",
   "execution_count": 45,
   "id": "29f105e7",
   "metadata": {
    "ExecuteTime": {
     "end_time": "2021-08-27T12:11:36.273800Z",
     "start_time": "2021-08-27T12:11:36.262501Z"
    }
   },
   "outputs": [
    {
     "data": {
      "text/plain": [
       "0    1\n",
       "1    1\n",
       "2    1\n",
       "3    1\n",
       "4    1\n",
       "Name: campaign, dtype: int64"
      ]
     },
     "execution_count": 45,
     "metadata": {},
     "output_type": "execute_result"
    }
   ],
   "source": [
    "# Inspecting the campaign column\n",
    "# Campaign contains number of contacts performed during the campaign\n",
    "bank_full['campaign'].head()"
   ]
  },
  {
   "cell_type": "code",
   "execution_count": 46,
   "id": "a05314af",
   "metadata": {
    "ExecuteTime": {
     "end_time": "2021-08-27T12:11:36.496318Z",
     "start_time": "2021-08-27T12:11:36.487811Z"
    }
   },
   "outputs": [
    {
     "data": {
      "text/plain": [
       "array([ 1,  2,  3,  4,  5,  6,  7,  8,  9, 10, 11, 12, 13, 19, 18, 23, 14,\n",
       "       22, 25, 16, 17, 15, 20, 56, 39, 35, 42, 28, 26, 27, 32, 21, 24, 29,\n",
       "       31, 30, 41, 37, 40, 33, 34, 43])"
      ]
     },
     "execution_count": 46,
     "metadata": {},
     "output_type": "execute_result"
    }
   ],
   "source": [
    "# The unique values in the campaign column\n",
    "bank_full.campaign.unique() "
   ]
  },
  {
   "cell_type": "code",
   "execution_count": 47,
   "id": "9675c984",
   "metadata": {
    "ExecuteTime": {
     "end_time": "2021-08-27T12:11:38.335548Z",
     "start_time": "2021-08-27T12:11:38.325928Z"
    }
   },
   "outputs": [
    {
     "data": {
      "text/plain": [
       "Index(['age', 'job', 'marital', 'education', 'default', 'housing loan',\n",
       "       'personal loan', 'pdays', 'previous', 'poutcome', 'emp.var.rate',\n",
       "       'cons.price.idx', 'cons.conf.idx', 'euribor3m', 'nr.employed', 'y',\n",
       "       'age_group'],\n",
       "      dtype='object')"
      ]
     },
     "execution_count": 47,
     "metadata": {},
     "output_type": "execute_result"
    }
   ],
   "source": [
    "# I don't think this column is relevant\n",
    "bank_full.drop(columns=['campaign'],inplace=True)\n",
    "bank_full.columns"
   ]
  },
  {
   "cell_type": "code",
   "execution_count": 48,
   "id": "67d1633d",
   "metadata": {
    "ExecuteTime": {
     "end_time": "2021-08-27T12:11:38.555228Z",
     "start_time": "2021-08-27T12:11:38.549264Z"
    }
   },
   "outputs": [],
   "source": [
    "# Inspecting the pdays column\n",
    "# Number of days that passed by after the client was last contacted from \n",
    "# a previous campaign (numeric; 999 means client was not previously contacted)"
   ]
  },
  {
   "cell_type": "code",
   "execution_count": 49,
   "id": "cc6251f2",
   "metadata": {
    "ExecuteTime": {
     "end_time": "2021-08-27T12:11:38.813944Z",
     "start_time": "2021-08-27T12:11:38.801885Z"
    }
   },
   "outputs": [
    {
     "data": {
      "text/plain": [
       "999    39673\n",
       "3        439\n",
       "6        412\n",
       "4        118\n",
       "9         64\n",
       "Name: pdays, dtype: int64"
      ]
     },
     "execution_count": 49,
     "metadata": {},
     "output_type": "execute_result"
    }
   ],
   "source": [
    "# The pdays column\n",
    "# 999 means client was not previously contacted\n",
    "bank_full['pdays'].value_counts().head()"
   ]
  },
  {
   "cell_type": "code",
   "execution_count": 50,
   "id": "7b29f9f6",
   "metadata": {
    "ExecuteTime": {
     "end_time": "2021-08-27T12:11:39.046710Z",
     "start_time": "2021-08-27T12:11:39.029635Z"
    }
   },
   "outputs": [
    {
     "data": {
      "text/plain": [
       "count    41188.000000\n",
       "mean       962.475454\n",
       "std        186.910907\n",
       "min          0.000000\n",
       "25%        999.000000\n",
       "50%        999.000000\n",
       "75%        999.000000\n",
       "max        999.000000\n",
       "Name: pdays, dtype: float64"
      ]
     },
     "execution_count": 50,
     "metadata": {},
     "output_type": "execute_result"
    }
   ],
   "source": [
    "bank_full.pdays.describe() "
   ]
  },
  {
   "cell_type": "code",
   "execution_count": 51,
   "id": "965fd338",
   "metadata": {
    "ExecuteTime": {
     "end_time": "2021-08-27T12:11:39.295114Z",
     "start_time": "2021-08-27T12:11:39.276106Z"
    }
   },
   "outputs": [
    {
     "data": {
      "text/html": [
       "<div>\n",
       "<style scoped>\n",
       "    .dataframe tbody tr th:only-of-type {\n",
       "        vertical-align: middle;\n",
       "    }\n",
       "\n",
       "    .dataframe tbody tr th {\n",
       "        vertical-align: top;\n",
       "    }\n",
       "\n",
       "    .dataframe thead th {\n",
       "        text-align: right;\n",
       "    }\n",
       "</style>\n",
       "<table border=\"1\" class=\"dataframe\">\n",
       "  <thead>\n",
       "    <tr style=\"text-align: right;\">\n",
       "      <th></th>\n",
       "      <th>pdays</th>\n",
       "      <th>pdays_group</th>\n",
       "    </tr>\n",
       "  </thead>\n",
       "  <tbody>\n",
       "    <tr>\n",
       "      <th>0</th>\n",
       "      <td>999</td>\n",
       "      <td>Never Contacted</td>\n",
       "    </tr>\n",
       "    <tr>\n",
       "      <th>1</th>\n",
       "      <td>999</td>\n",
       "      <td>Never Contacted</td>\n",
       "    </tr>\n",
       "    <tr>\n",
       "      <th>2</th>\n",
       "      <td>999</td>\n",
       "      <td>Never Contacted</td>\n",
       "    </tr>\n",
       "    <tr>\n",
       "      <th>3</th>\n",
       "      <td>999</td>\n",
       "      <td>Never Contacted</td>\n",
       "    </tr>\n",
       "    <tr>\n",
       "      <th>4</th>\n",
       "      <td>999</td>\n",
       "      <td>Never Contacted</td>\n",
       "    </tr>\n",
       "    <tr>\n",
       "      <th>5</th>\n",
       "      <td>999</td>\n",
       "      <td>Never Contacted</td>\n",
       "    </tr>\n",
       "    <tr>\n",
       "      <th>6</th>\n",
       "      <td>999</td>\n",
       "      <td>Never Contacted</td>\n",
       "    </tr>\n",
       "    <tr>\n",
       "      <th>7</th>\n",
       "      <td>999</td>\n",
       "      <td>Never Contacted</td>\n",
       "    </tr>\n",
       "    <tr>\n",
       "      <th>8</th>\n",
       "      <td>999</td>\n",
       "      <td>Never Contacted</td>\n",
       "    </tr>\n",
       "    <tr>\n",
       "      <th>9</th>\n",
       "      <td>999</td>\n",
       "      <td>Never Contacted</td>\n",
       "    </tr>\n",
       "  </tbody>\n",
       "</table>\n",
       "</div>"
      ],
      "text/plain": [
       "   pdays      pdays_group\n",
       "0    999  Never Contacted\n",
       "1    999  Never Contacted\n",
       "2    999  Never Contacted\n",
       "3    999  Never Contacted\n",
       "4    999  Never Contacted\n",
       "5    999  Never Contacted\n",
       "6    999  Never Contacted\n",
       "7    999  Never Contacted\n",
       "8    999  Never Contacted\n",
       "9    999  Never Contacted"
      ]
     },
     "execution_count": 51,
     "metadata": {},
     "output_type": "execute_result"
    }
   ],
   "source": [
    "# Create a new column for pdays_groups \n",
    "bins = [0,500,999]\n",
    "pdays_group = ['Contacted','Never Contacted']\n",
    "# Create a new column\n",
    "bank_full['pdays_group'] = pd.cut(bank_full['pdays'],bins=bins,labels=pdays_group)\n",
    "bank_full[['pdays','pdays_group']].head(10) "
   ]
  },
  {
   "cell_type": "code",
   "execution_count": 52,
   "id": "6fdaee20",
   "metadata": {
    "ExecuteTime": {
     "end_time": "2021-08-27T12:11:39.535417Z",
     "start_time": "2021-08-27T12:11:39.522138Z"
    }
   },
   "outputs": [
    {
     "data": {
      "text/html": [
       "<div>\n",
       "<style scoped>\n",
       "    .dataframe tbody tr th:only-of-type {\n",
       "        vertical-align: middle;\n",
       "    }\n",
       "\n",
       "    .dataframe tbody tr th {\n",
       "        vertical-align: top;\n",
       "    }\n",
       "\n",
       "    .dataframe thead th {\n",
       "        text-align: right;\n",
       "    }\n",
       "</style>\n",
       "<table border=\"1\" class=\"dataframe\">\n",
       "  <thead>\n",
       "    <tr style=\"text-align: right;\">\n",
       "      <th></th>\n",
       "      <th>pdays</th>\n",
       "      <th>pdays_group</th>\n",
       "    </tr>\n",
       "  </thead>\n",
       "  <tbody>\n",
       "    <tr>\n",
       "      <th>41178</th>\n",
       "      <td>6</td>\n",
       "      <td>Contacted</td>\n",
       "    </tr>\n",
       "    <tr>\n",
       "      <th>41179</th>\n",
       "      <td>999</td>\n",
       "      <td>Never Contacted</td>\n",
       "    </tr>\n",
       "    <tr>\n",
       "      <th>41180</th>\n",
       "      <td>999</td>\n",
       "      <td>Never Contacted</td>\n",
       "    </tr>\n",
       "    <tr>\n",
       "      <th>41181</th>\n",
       "      <td>999</td>\n",
       "      <td>Never Contacted</td>\n",
       "    </tr>\n",
       "    <tr>\n",
       "      <th>41182</th>\n",
       "      <td>9</td>\n",
       "      <td>Contacted</td>\n",
       "    </tr>\n",
       "    <tr>\n",
       "      <th>41183</th>\n",
       "      <td>999</td>\n",
       "      <td>Never Contacted</td>\n",
       "    </tr>\n",
       "    <tr>\n",
       "      <th>41184</th>\n",
       "      <td>999</td>\n",
       "      <td>Never Contacted</td>\n",
       "    </tr>\n",
       "    <tr>\n",
       "      <th>41185</th>\n",
       "      <td>999</td>\n",
       "      <td>Never Contacted</td>\n",
       "    </tr>\n",
       "    <tr>\n",
       "      <th>41186</th>\n",
       "      <td>999</td>\n",
       "      <td>Never Contacted</td>\n",
       "    </tr>\n",
       "    <tr>\n",
       "      <th>41187</th>\n",
       "      <td>999</td>\n",
       "      <td>Never Contacted</td>\n",
       "    </tr>\n",
       "  </tbody>\n",
       "</table>\n",
       "</div>"
      ],
      "text/plain": [
       "       pdays      pdays_group\n",
       "41178      6        Contacted\n",
       "41179    999  Never Contacted\n",
       "41180    999  Never Contacted\n",
       "41181    999  Never Contacted\n",
       "41182      9        Contacted\n",
       "41183    999  Never Contacted\n",
       "41184    999  Never Contacted\n",
       "41185    999  Never Contacted\n",
       "41186    999  Never Contacted\n",
       "41187    999  Never Contacted"
      ]
     },
     "execution_count": 52,
     "metadata": {},
     "output_type": "execute_result"
    }
   ],
   "source": [
    "bank_full[['pdays','pdays_group']].tail(10)"
   ]
  },
  {
   "cell_type": "code",
   "execution_count": 53,
   "id": "4d7b71fe",
   "metadata": {
    "ExecuteTime": {
     "end_time": "2021-08-27T12:11:39.733259Z",
     "start_time": "2021-08-27T12:11:39.724614Z"
    }
   },
   "outputs": [
    {
     "data": {
      "text/plain": [
       "Never Contacted    39673\n",
       "Contacted           1500\n",
       "Name: pdays_group, dtype: int64"
      ]
     },
     "execution_count": 53,
     "metadata": {},
     "output_type": "execute_result"
    }
   ],
   "source": [
    "bank_full['pdays_group'].value_counts()"
   ]
  },
  {
   "cell_type": "code",
   "execution_count": 54,
   "id": "e18f7ac3",
   "metadata": {
    "ExecuteTime": {
     "end_time": "2021-08-27T12:11:39.933220Z",
     "start_time": "2021-08-27T12:11:39.925812Z"
    }
   },
   "outputs": [],
   "source": [
    "# Inspecting the previous column\n",
    "# Previous: Number of contacts performed before this campaign and for this client (numeric)"
   ]
  },
  {
   "cell_type": "code",
   "execution_count": 55,
   "id": "70867cff",
   "metadata": {
    "ExecuteTime": {
     "end_time": "2021-08-27T12:11:40.135420Z",
     "start_time": "2021-08-27T12:11:40.129149Z"
    }
   },
   "outputs": [
    {
     "data": {
      "text/plain": [
       "0    35563\n",
       "1     4561\n",
       "2      754\n",
       "3      216\n",
       "4       70\n",
       "5       18\n",
       "6        5\n",
       "7        1\n",
       "Name: previous, dtype: int64"
      ]
     },
     "execution_count": 55,
     "metadata": {},
     "output_type": "execute_result"
    }
   ],
   "source": [
    "# The previous column\n",
    "bank_full['previous'].value_counts() "
   ]
  },
  {
   "cell_type": "markdown",
   "id": "5916425f",
   "metadata": {},
   "source": [
    "I will keep the previous column and do EDA on it to verify its importance"
   ]
  },
  {
   "cell_type": "code",
   "execution_count": 56,
   "id": "7dbebd87",
   "metadata": {
    "ExecuteTime": {
     "end_time": "2021-08-27T12:11:40.565669Z",
     "start_time": "2021-08-27T12:11:40.562898Z"
    }
   },
   "outputs": [],
   "source": [
    "# Inspecting the poutcome column\n",
    "# Poutcome: outcome of the previous marketing campaign (categorical: 'failure','nonexistent','success')"
   ]
  },
  {
   "cell_type": "code",
   "execution_count": 57,
   "id": "f605f458",
   "metadata": {
    "ExecuteTime": {
     "end_time": "2021-08-27T12:11:40.802712Z",
     "start_time": "2021-08-27T12:11:40.793680Z"
    }
   },
   "outputs": [
    {
     "data": {
      "text/plain": [
       "nonexistent    35563\n",
       "failure         4252\n",
       "success         1373\n",
       "Name: poutcome, dtype: int64"
      ]
     },
     "execution_count": 57,
     "metadata": {},
     "output_type": "execute_result"
    }
   ],
   "source": [
    "# The poutcome column\n",
    "bank_full['poutcome'].value_counts() "
   ]
  },
  {
   "cell_type": "code",
   "execution_count": 58,
   "id": "8a161ec0",
   "metadata": {
    "ExecuteTime": {
     "end_time": "2021-08-27T12:11:41.484713Z",
     "start_time": "2021-08-27T12:11:41.482209Z"
    }
   },
   "outputs": [],
   "source": [
    "# social and economic context attributes\n",
    "# Inspecting the emp.var.rate column\n",
    "# emp.var.rate: employment variation rate - quarterly indicator (numeric)\n",
    "# What is employment variation rate?\n",
    "# From my research, employment variation rate is the rate at which an employee\n",
    "# goes from one job to another or the ability to lose a job and get another or not"
   ]
  },
  {
   "cell_type": "code",
   "execution_count": 59,
   "id": "aebb4f23",
   "metadata": {
    "ExecuteTime": {
     "end_time": "2021-08-27T12:11:42.045991Z",
     "start_time": "2021-08-27T12:11:42.036677Z"
    }
   },
   "outputs": [
    {
     "data": {
      "text/plain": [
       " 1.4    16234\n",
       "-1.8     9184\n",
       " 1.1     7763\n",
       "-0.1     3683\n",
       "-2.9     1663\n",
       "-3.4     1071\n",
       "-1.7      773\n",
       "-1.1      635\n",
       "-3.0      172\n",
       "-0.2       10\n",
       "Name: emp.var.rate, dtype: int64"
      ]
     },
     "execution_count": 59,
     "metadata": {},
     "output_type": "execute_result"
    }
   ],
   "source": [
    "# The emp.var.rate column\n",
    "bank_full['emp.var.rate'].value_counts()"
   ]
  },
  {
   "cell_type": "code",
   "execution_count": 60,
   "id": "c0a93817",
   "metadata": {
    "ExecuteTime": {
     "end_time": "2021-08-27T12:11:42.797294Z",
     "start_time": "2021-08-27T12:11:42.794604Z"
    }
   },
   "outputs": [],
   "source": [
    "# Inspecting the consumer price index column\n",
    "# cons.price.idx: is a measure that examines the weighted average of prices \n",
    "# of a basket of consumer goods and services, such as transportation, food, and medical care. \n",
    "# It is calculated by taking price changes for each item in the predetermined basket of goods and averaging them"
   ]
  },
  {
   "cell_type": "code",
   "execution_count": 61,
   "id": "5b84c01a",
   "metadata": {
    "ExecuteTime": {
     "end_time": "2021-08-27T12:11:43.319711Z",
     "start_time": "2021-08-27T12:11:43.312947Z"
    }
   },
   "outputs": [
    {
     "data": {
      "text/plain": [
       "93.994    7763\n",
       "93.918    6685\n",
       "92.893    5794\n",
       "93.444    5175\n",
       "94.465    4374\n",
       "Name: cons.price.idx, dtype: int64"
      ]
     },
     "execution_count": 61,
     "metadata": {},
     "output_type": "execute_result"
    }
   ],
   "source": [
    "# The cons.price.idx column\n",
    "bank_full['cons.price.idx'].value_counts().head()"
   ]
  },
  {
   "cell_type": "code",
   "execution_count": 62,
   "id": "b678b106",
   "metadata": {
    "ExecuteTime": {
     "end_time": "2021-08-27T12:11:43.880564Z",
     "start_time": "2021-08-27T12:11:43.874799Z"
    }
   },
   "outputs": [],
   "source": [
    "# Inspecting the cons.conf.idx column\n",
    "# What is cons.conf.idx: consumer confidence indicates economic growth in which \n",
    "# consumers are spending money, indicating higher consumption. Decreasing consumer \n",
    "# confidence implies slowing economic growth, and so consumers are likely to decrease their spending."
   ]
  },
  {
   "cell_type": "code",
   "execution_count": 63,
   "id": "549231f7",
   "metadata": {
    "ExecuteTime": {
     "end_time": "2021-08-27T12:11:44.488990Z",
     "start_time": "2021-08-27T12:11:44.466049Z"
    }
   },
   "outputs": [
    {
     "data": {
      "text/plain": [
       "-36.4    7763\n",
       "-42.7    6685\n",
       "-46.2    5794\n",
       "-36.1    5175\n",
       "-41.8    4374\n",
       "Name: cons.conf.idx, dtype: int64"
      ]
     },
     "execution_count": 63,
     "metadata": {},
     "output_type": "execute_result"
    }
   ],
   "source": [
    "# The cons.conf.idx column\n",
    "bank_full['cons.conf.idx'].value_counts().head()"
   ]
  },
  {
   "cell_type": "code",
   "execution_count": 64,
   "id": "a40ebb37",
   "metadata": {
    "ExecuteTime": {
     "end_time": "2021-08-27T12:11:45.021401Z",
     "start_time": "2021-08-27T12:11:45.018905Z"
    }
   },
   "outputs": [],
   "source": [
    "# Inspecting the euribor3m column\n",
    "# What is euribor3m: The Euro Interbank Offered Rate (Euribor) is a daily reference rate, \n",
    "# published by the European Money Markets Institute,[1] based on the averaged interest rates \n",
    "# at which Eurozone banks offer to lend unsecured funds to other banks in the euro wholesale \n",
    "# money market (or interbank market)"
   ]
  },
  {
   "cell_type": "code",
   "execution_count": 65,
   "id": "6a545777",
   "metadata": {
    "ExecuteTime": {
     "end_time": "2021-08-27T12:11:45.614126Z",
     "start_time": "2021-08-27T12:11:45.604824Z"
    }
   },
   "outputs": [
    {
     "data": {
      "text/plain": [
       "4.857    2868\n",
       "4.962    2613\n",
       "4.963    2487\n",
       "4.961    1902\n",
       "4.856    1210\n",
       "Name: euribor3m, dtype: int64"
      ]
     },
     "execution_count": 65,
     "metadata": {},
     "output_type": "execute_result"
    }
   ],
   "source": [
    "# The euribor3m column\n",
    "bank_full['euribor3m'].value_counts().head() "
   ]
  },
  {
   "cell_type": "code",
   "execution_count": 66,
   "id": "8c431a56",
   "metadata": {
    "ExecuteTime": {
     "end_time": "2021-08-27T12:11:46.297685Z",
     "start_time": "2021-08-27T12:11:46.294118Z"
    }
   },
   "outputs": [],
   "source": [
    "# Inspecting the number of exployees column"
   ]
  },
  {
   "cell_type": "code",
   "execution_count": 67,
   "id": "5113b62f",
   "metadata": {
    "ExecuteTime": {
     "end_time": "2021-08-27T12:11:46.542203Z",
     "start_time": "2021-08-27T12:11:46.532268Z"
    }
   },
   "outputs": [
    {
     "data": {
      "text/plain": [
       "5228.1    16234\n",
       "5099.1     8534\n",
       "5191.0     7763\n",
       "5195.8     3683\n",
       "5076.2     1663\n",
       "5017.5     1071\n",
       "4991.6      773\n",
       "5008.7      650\n",
       "4963.6      635\n",
       "5023.5      172\n",
       "5176.3       10\n",
       "Name: nr.employed, dtype: int64"
      ]
     },
     "execution_count": 67,
     "metadata": {},
     "output_type": "execute_result"
    }
   ],
   "source": [
    "# The number of employees column value count\n",
    "bank_full['nr.employed'].value_counts()"
   ]
  },
  {
   "cell_type": "code",
   "execution_count": 68,
   "id": "ea590720",
   "metadata": {
    "ExecuteTime": {
     "end_time": "2021-08-27T12:11:46.751626Z",
     "start_time": "2021-08-27T12:11:46.748380Z"
    }
   },
   "outputs": [],
   "source": [
    "# Inspecting the y column\n",
    "# y: has the client subscribed a term deposit? (binary: 'yes','no')"
   ]
  },
  {
   "cell_type": "code",
   "execution_count": 69,
   "id": "75b5ea49",
   "metadata": {
    "ExecuteTime": {
     "end_time": "2021-08-27T12:11:46.935501Z",
     "start_time": "2021-08-27T12:11:46.920900Z"
    }
   },
   "outputs": [
    {
     "data": {
      "text/plain": [
       "no     36548\n",
       "yes     4640\n",
       "Name: y, dtype: int64"
      ]
     },
     "execution_count": 69,
     "metadata": {},
     "output_type": "execute_result"
    }
   ],
   "source": [
    "# The y column\n",
    "bank_full['y'].value_counts()"
   ]
  },
  {
   "cell_type": "code",
   "execution_count": 70,
   "id": "6c65adc7",
   "metadata": {
    "ExecuteTime": {
     "end_time": "2021-08-27T12:11:47.170125Z",
     "start_time": "2021-08-27T12:11:47.118004Z"
    }
   },
   "outputs": [
    {
     "data": {
      "text/plain": [
       "5853"
      ]
     },
     "execution_count": 70,
     "metadata": {},
     "output_type": "execute_result"
    }
   ],
   "source": [
    "# Checking for duplicate values\n",
    "bank_full.duplicated().sum()"
   ]
  },
  {
   "cell_type": "code",
   "execution_count": 71,
   "id": "9329068b",
   "metadata": {
    "ExecuteTime": {
     "end_time": "2021-08-27T12:11:47.427520Z",
     "start_time": "2021-08-27T12:11:47.383891Z"
    }
   },
   "outputs": [],
   "source": [
    "# Examine the rows with duplicate values\n",
    "bank_full_dup = bank_full.loc[bank_full.duplicated(),:]"
   ]
  },
  {
   "cell_type": "code",
   "execution_count": 72,
   "id": "434526cf",
   "metadata": {
    "ExecuteTime": {
     "end_time": "2021-08-27T12:11:47.635763Z",
     "start_time": "2021-08-27T12:11:47.615395Z"
    }
   },
   "outputs": [
    {
     "name": "stdout",
     "output_type": "stream",
     "text": [
      "<class 'pandas.core.frame.DataFrame'>\n",
      "Int64Index: 5853 entries, 10 to 41157\n",
      "Data columns (total 18 columns):\n",
      " #   Column          Non-Null Count  Dtype   \n",
      "---  ------          --------------  -----   \n",
      " 0   age             5853 non-null   int64   \n",
      " 1   job             5853 non-null   object  \n",
      " 2   marital         5853 non-null   object  \n",
      " 3   education       5853 non-null   object  \n",
      " 4   default         5853 non-null   object  \n",
      " 5   housing loan    5853 non-null   object  \n",
      " 6   personal loan   5853 non-null   object  \n",
      " 7   pdays           5853 non-null   int64   \n",
      " 8   previous        5853 non-null   int64   \n",
      " 9   poutcome        5853 non-null   object  \n",
      " 10  emp.var.rate    5853 non-null   float64 \n",
      " 11  cons.price.idx  5853 non-null   float64 \n",
      " 12  cons.conf.idx   5853 non-null   float64 \n",
      " 13  euribor3m       5853 non-null   float64 \n",
      " 14  nr.employed     5853 non-null   float64 \n",
      " 15  y               5853 non-null   object  \n",
      " 16  age_group       5853 non-null   category\n",
      " 17  pdays_group     5853 non-null   category\n",
      "dtypes: category(2), float64(5), int64(3), object(8)\n",
      "memory usage: 789.1+ KB\n"
     ]
    }
   ],
   "source": [
    "bank_full_dup.info() "
   ]
  },
  {
   "cell_type": "code",
   "execution_count": 73,
   "id": "8fc348c3",
   "metadata": {
    "ExecuteTime": {
     "end_time": "2021-08-27T12:11:47.849795Z",
     "start_time": "2021-08-27T12:11:47.825970Z"
    }
   },
   "outputs": [
    {
     "data": {
      "text/html": [
       "<div>\n",
       "<style scoped>\n",
       "    .dataframe tbody tr th:only-of-type {\n",
       "        vertical-align: middle;\n",
       "    }\n",
       "\n",
       "    .dataframe tbody tr th {\n",
       "        vertical-align: top;\n",
       "    }\n",
       "\n",
       "    .dataframe thead th {\n",
       "        text-align: right;\n",
       "    }\n",
       "</style>\n",
       "<table border=\"1\" class=\"dataframe\">\n",
       "  <thead>\n",
       "    <tr style=\"text-align: right;\">\n",
       "      <th></th>\n",
       "      <th>age</th>\n",
       "      <th>job</th>\n",
       "      <th>marital</th>\n",
       "      <th>education</th>\n",
       "      <th>default</th>\n",
       "      <th>housing loan</th>\n",
       "      <th>personal loan</th>\n",
       "      <th>pdays</th>\n",
       "      <th>previous</th>\n",
       "      <th>poutcome</th>\n",
       "      <th>emp.var.rate</th>\n",
       "      <th>cons.price.idx</th>\n",
       "      <th>cons.conf.idx</th>\n",
       "      <th>euribor3m</th>\n",
       "      <th>nr.employed</th>\n",
       "      <th>y</th>\n",
       "      <th>age_group</th>\n",
       "      <th>pdays_group</th>\n",
       "    </tr>\n",
       "  </thead>\n",
       "  <tbody>\n",
       "    <tr>\n",
       "      <th>10</th>\n",
       "      <td>41</td>\n",
       "      <td>blue-collar</td>\n",
       "      <td>married</td>\n",
       "      <td>unknown</td>\n",
       "      <td>unknown</td>\n",
       "      <td>no</td>\n",
       "      <td>no</td>\n",
       "      <td>999</td>\n",
       "      <td>0</td>\n",
       "      <td>nonexistent</td>\n",
       "      <td>1.1</td>\n",
       "      <td>93.994</td>\n",
       "      <td>-36.4</td>\n",
       "      <td>4.857</td>\n",
       "      <td>5191.0</td>\n",
       "      <td>no</td>\n",
       "      <td>Mid-Aged</td>\n",
       "      <td>Never Contacted</td>\n",
       "    </tr>\n",
       "    <tr>\n",
       "      <th>11</th>\n",
       "      <td>25</td>\n",
       "      <td>services</td>\n",
       "      <td>single</td>\n",
       "      <td>secondary education</td>\n",
       "      <td>no</td>\n",
       "      <td>yes</td>\n",
       "      <td>no</td>\n",
       "      <td>999</td>\n",
       "      <td>0</td>\n",
       "      <td>nonexistent</td>\n",
       "      <td>1.1</td>\n",
       "      <td>93.994</td>\n",
       "      <td>-36.4</td>\n",
       "      <td>4.857</td>\n",
       "      <td>5191.0</td>\n",
       "      <td>no</td>\n",
       "      <td>Adults</td>\n",
       "      <td>Never Contacted</td>\n",
       "    </tr>\n",
       "    <tr>\n",
       "      <th>16</th>\n",
       "      <td>35</td>\n",
       "      <td>blue-collar</td>\n",
       "      <td>married</td>\n",
       "      <td>2nd basic</td>\n",
       "      <td>no</td>\n",
       "      <td>yes</td>\n",
       "      <td>no</td>\n",
       "      <td>999</td>\n",
       "      <td>0</td>\n",
       "      <td>nonexistent</td>\n",
       "      <td>1.1</td>\n",
       "      <td>93.994</td>\n",
       "      <td>-36.4</td>\n",
       "      <td>4.857</td>\n",
       "      <td>5191.0</td>\n",
       "      <td>no</td>\n",
       "      <td>Adults</td>\n",
       "      <td>Never Contacted</td>\n",
       "    </tr>\n",
       "  </tbody>\n",
       "</table>\n",
       "</div>"
      ],
      "text/plain": [
       "    age          job  marital            education  default housing loan  \\\n",
       "10   41  blue-collar  married              unknown  unknown           no   \n",
       "11   25     services   single  secondary education       no          yes   \n",
       "16   35  blue-collar  married            2nd basic       no          yes   \n",
       "\n",
       "   personal loan  pdays  previous     poutcome  emp.var.rate  cons.price.idx  \\\n",
       "10            no    999         0  nonexistent           1.1          93.994   \n",
       "11            no    999         0  nonexistent           1.1          93.994   \n",
       "16            no    999         0  nonexistent           1.1          93.994   \n",
       "\n",
       "    cons.conf.idx  euribor3m  nr.employed   y age_group      pdays_group  \n",
       "10          -36.4      4.857       5191.0  no  Mid-Aged  Never Contacted  \n",
       "11          -36.4      4.857       5191.0  no    Adults  Never Contacted  \n",
       "16          -36.4      4.857       5191.0  no    Adults  Never Contacted  "
      ]
     },
     "execution_count": 73,
     "metadata": {},
     "output_type": "execute_result"
    }
   ],
   "source": [
    "bank_full_dup.iloc[:3]"
   ]
  },
  {
   "cell_type": "code",
   "execution_count": 74,
   "id": "d67f423f",
   "metadata": {
    "ExecuteTime": {
     "end_time": "2021-08-27T12:11:48.124418Z",
     "start_time": "2021-08-27T12:11:48.076953Z"
    }
   },
   "outputs": [],
   "source": [
    "# After checking the duplicate values, I have decided to drop it\n",
    "bank_full.drop_duplicates(inplace=True)"
   ]
  },
  {
   "cell_type": "code",
   "execution_count": 75,
   "id": "691cab6b",
   "metadata": {
    "ExecuteTime": {
     "end_time": "2021-08-27T12:11:49.291726Z",
     "start_time": "2021-08-27T12:11:49.265480Z"
    }
   },
   "outputs": [
    {
     "name": "stdout",
     "output_type": "stream",
     "text": [
      "<class 'pandas.core.frame.DataFrame'>\n",
      "Int64Index: 35335 entries, 0 to 41187\n",
      "Data columns (total 18 columns):\n",
      " #   Column          Non-Null Count  Dtype   \n",
      "---  ------          --------------  -----   \n",
      " 0   age             35335 non-null  int64   \n",
      " 1   job             35335 non-null  object  \n",
      " 2   marital         35335 non-null  object  \n",
      " 3   education       35335 non-null  object  \n",
      " 4   default         35335 non-null  object  \n",
      " 5   housing loan    35335 non-null  object  \n",
      " 6   personal loan   35335 non-null  object  \n",
      " 7   pdays           35335 non-null  int64   \n",
      " 8   previous        35335 non-null  int64   \n",
      " 9   poutcome        35335 non-null  object  \n",
      " 10  emp.var.rate    35335 non-null  float64 \n",
      " 11  cons.price.idx  35335 non-null  float64 \n",
      " 12  cons.conf.idx   35335 non-null  float64 \n",
      " 13  euribor3m       35335 non-null  float64 \n",
      " 14  nr.employed     35335 non-null  float64 \n",
      " 15  y               35335 non-null  object  \n",
      " 16  age_group       35335 non-null  category\n",
      " 17  pdays_group     35320 non-null  category\n",
      "dtypes: category(2), float64(5), int64(3), object(8)\n",
      "memory usage: 4.7+ MB\n"
     ]
    }
   ],
   "source": [
    "bank_full.info() "
   ]
  },
  {
   "cell_type": "code",
   "execution_count": 76,
   "id": "3d54c7a8",
   "metadata": {
    "ExecuteTime": {
     "end_time": "2021-08-27T12:11:49.702509Z",
     "start_time": "2021-08-27T12:11:49.692807Z"
    }
   },
   "outputs": [
    {
     "data": {
      "text/plain": [
       "(35335, 18)"
      ]
     },
     "execution_count": 76,
     "metadata": {},
     "output_type": "execute_result"
    }
   ],
   "source": [
    "bank_full.shape"
   ]
  }
 ],
 "metadata": {
  "kernelspec": {
   "display_name": "Python 3",
   "language": "python",
   "name": "python3"
  },
  "language_info": {
   "codemirror_mode": {
    "name": "ipython",
    "version": 3
   },
   "file_extension": ".py",
   "mimetype": "text/x-python",
   "name": "python",
   "nbconvert_exporter": "python",
   "pygments_lexer": "ipython3",
   "version": "3.8.11"
  },
  "toc": {
   "base_numbering": 1,
   "nav_menu": {},
   "number_sections": true,
   "sideBar": true,
   "skip_h1_title": false,
   "title_cell": "Table of Contents",
   "title_sidebar": "Contents",
   "toc_cell": false,
   "toc_position": {},
   "toc_section_display": true,
   "toc_window_display": false
  }
 },
 "nbformat": 4,
 "nbformat_minor": 5
}
